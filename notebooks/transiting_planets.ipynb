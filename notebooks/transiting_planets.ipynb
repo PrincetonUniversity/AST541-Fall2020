{
 "cells": [
  {
   "cell_type": "code",
   "execution_count": 2,
   "metadata": {},
   "outputs": [],
   "source": [
    "import numpy as np\n",
    "import pandas as pd\n",
    "import matplotlib.pyplot as plt\n",
    "from mpl_toolkits.mplot3d import Axes3D"
   ]
  },
  {
   "cell_type": "code",
   "execution_count": 5,
   "metadata": {},
   "outputs": [],
   "source": [
    "from astropy import units as u\n",
    "from astropy.coordinates import SkyCoord\n",
    "from astroquery.nasa_exoplanet_archive import NasaExoplanetArchive"
   ]
  },
  {
   "cell_type": "code",
   "execution_count": 20,
   "metadata": {},
   "outputs": [],
   "source": [
    "## For this to work, you need to install ipympl\n",
    "%matplotlib widget"
   ]
  },
  {
   "cell_type": "code",
   "execution_count": 3,
   "metadata": {},
   "outputs": [],
   "source": [
    "transiting_planets = NasaExoplanetArchive.query_criteria(table=\"exoplanets\", where=\"pl_discmethod like 'Transit'\", select=\"pl_hostname,pl_letter,pl_name,pl_discmethod,ra,dec,st_dist,pl_facility\")"
   ]
  },
  {
   "cell_type": "code",
   "execution_count": 6,
   "metadata": {},
   "outputs": [],
   "source": [
    "ras = transiting_planets['ra']\n",
    "decs = transiting_planets['dec']\n",
    "dist = transiting_planets['st_dist']"
   ]
  },
  {
   "cell_type": "code",
   "execution_count": 23,
   "metadata": {},
   "outputs": [],
   "source": [
    "transiting_planets['xs'] = np.cos(ras) * np.cos(decs) * dist\n",
    "transiting_planets['ys'] = np.sin(ras) * np.cos(decs) * dist\n",
    "transiting_planets['zs'] = np.sin(decs) * dist"
   ]
  },
  {
   "cell_type": "code",
   "execution_count": 53,
   "metadata": {},
   "outputs": [
    {
     "data": {
      "text/plain": [
       "['Acton Sky Portal Observatory',\n",
       " 'Anglo-Australian Telescope',\n",
       " 'Cerro Tololo Inter-American Observatory',\n",
       " 'CoRoT',\n",
       " 'HATNet',\n",
       " 'HATSouth',\n",
       " 'Haleakala Observatory',\n",
       " 'Hubble Space Telescope',\n",
       " 'K2',\n",
       " 'KELT',\n",
       " 'KELT-North',\n",
       " 'KELT-South',\n",
       " 'Kepler',\n",
       " 'La Silla Observatory',\n",
       " 'MEarth Project',\n",
       " 'Multiple Facilities',\n",
       " 'Multiple Observatories',\n",
       " 'OGLE',\n",
       " 'Paranal Observatory',\n",
       " 'Qatar',\n",
       " 'SuperWASP',\n",
       " 'SuperWASP-North',\n",
       " 'SuperWASP-South',\n",
       " 'TrES',\n",
       " 'Transiting Exoplanet Survey Satellite (TESS)',\n",
       " 'United Kingdom Infrared Telescope',\n",
       " 'WASP-South',\n",
       " 'XO']"
      ]
     },
     "execution_count": 53,
     "metadata": {},
     "output_type": "execute_result"
    }
   ],
   "source": [
    "list(np.unique(transiting_planets['pl_facility']))"
   ]
  },
  {
   "cell_type": "code",
   "execution_count": 62,
   "metadata": {},
   "outputs": [],
   "source": [
    "kepler_mask = transiting_planets['pl_facility'] == \"Kepler\"\n",
    "k2_mask = transiting_planets['pl_facility'] == \"K2\"\n",
    "hat_mask = transiting_planets['pl_facility'] == \"HATNet\"\n",
    "hats_mask = transiting_planets['pl_facility'] == \"HATSouth\"\n",
    "tess_mask = transiting_planets['pl_facility'] == 'Transiting Exoplanet Survey Satellite (TESS)'\n",
    "wasp_mask = np.logical_or(transiting_planets['pl_facility'] == 'SuperWASP-North', transiting_planets['pl_facility'] == 'SuperWASP')\n",
    "wasps_mask = np.logical_or(transiting_planets['pl_facility'] == 'WASP-South', transiting_planets['pl_facility'] == 'SuperWASP-South')\n",
    "\n",
    "masks = {'Kepler': kepler_mask, 'K2': k2_mask, 'HAT': hat_mask, 'HATSouth': hats_mask, 'TESS': tess_mask, 'WASP': wasp_mask, 'WASP-South': wasps_mask}"
   ]
  },
  {
   "cell_type": "code",
   "execution_count": 64,
   "metadata": {},
   "outputs": [
    {
     "data": {
      "application/vnd.jupyter.widget-view+json": {
       "model_id": "4d2aabbb8ec74a408324287926b3903a",
       "version_major": 2,
       "version_minor": 0
      },
      "text/plain": [
       "Canvas(toolbar=Toolbar(toolitems=[('Home', 'Reset original view', 'home', 'home'), ('Back', 'Back to previous …"
      ]
     },
     "metadata": {},
     "output_type": "display_data"
    },
    {
     "data": {
      "text/plain": [
       "<matplotlib.legend.Legend at 0x1292cf650>"
      ]
     },
     "execution_count": 64,
     "metadata": {},
     "output_type": "execute_result"
    }
   ],
   "source": [
    "fig = plt.figure(figsize=(10, 8))\n",
    "ax = fig.add_subplot(111, projection='3d')\n",
    "for mask_label in masks:\n",
    "    mask = masks[mask_label]\n",
    "    ax.scatter(xs[mask], ys[mask], zs[mask], s=2, label=mask_label)\n",
    "ax.set_xlim(-1000, 1000)\n",
    "ax.set_ylim(-1000, 1000)\n",
    "ax.set_zlim(-1000, 1000)\n",
    "ax.legend()"
   ]
  },
  {
   "cell_type": "code",
   "execution_count": null,
   "metadata": {},
   "outputs": [],
   "source": []
  }
 ],
 "metadata": {
  "kernelspec": {
   "display_name": "Python [conda env:ttvstability]",
   "language": "python",
   "name": "conda-env-ttvstability-py"
  },
  "language_info": {
   "codemirror_mode": {
    "name": "ipython",
    "version": 3
   },
   "file_extension": ".py",
   "mimetype": "text/x-python",
   "name": "python",
   "nbconvert_exporter": "python",
   "pygments_lexer": "ipython3",
   "version": "3.7.7"
  }
 },
 "nbformat": 4,
 "nbformat_minor": 4
}
